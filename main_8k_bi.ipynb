{
 "cells": [
  {
   "cell_type": "code",
   "execution_count": 1,
   "id": "4cb9a058",
   "metadata": {},
   "outputs": [
    {
     "name": "stderr",
     "output_type": "stream",
     "text": [
      "2022-03-12 14:13:37.628890: W tensorflow/stream_executor/platform/default/dso_loader.cc:64] Could not load dynamic library 'libcudart.so.11.0'; dlerror: libcudart.so.11.0: cannot open shared object file: No such file or directory\n",
      "2022-03-12 14:13:37.628920: I tensorflow/stream_executor/cuda/cudart_stub.cc:29] Ignore above cudart dlerror if you do not have a GPU set up on your machine.\n"
     ]
    }
   ],
   "source": [
    "from keras.applications.vgg16 import VGG16\n",
    "from keras.preprocessing.image import load_img\n",
    "from keras.preprocessing.image import img_to_array\n",
    "from keras.applications.vgg16 import preprocess_input\n",
    "from keras.models import Model\n",
    "from keras.models import Model, load_model\n",
    "from keras.layers import Input, Dense, Dropout, LSTM, Embedding, Bidirectional\n",
    "from keras.preprocessing.text import Tokenizer\n",
    "from keras.preprocessing.sequence import pad_sequences\n",
    "from keras.layers.merge import add\n",
    "from keras.callbacks import ModelCheckpoint, EarlyStopping, ReduceLROnPlateau\n",
    "from tensorflow.keras.utils import to_categorical, plot_model\n",
    "from tensorflow.keras.initializers import Constant\n",
    "from tqdm import tqdm\n",
    "\n",
    "import os\n",
    "import pickle\n",
    "import numpy as np"
   ]
  },
  {
   "cell_type": "code",
   "execution_count": 2,
   "id": "fec4a96a",
   "metadata": {},
   "outputs": [
    {
     "data": {
      "text/plain": [
       "<module 'tensorflow._api.v2.version' from '/home/ayushm/.local/share/virtualenvs/oshin_proj-WsWBmyxW/lib64/python3.9/site-packages/tensorflow/_api/v2/version/__init__.py'>"
      ]
     },
     "execution_count": 2,
     "metadata": {},
     "output_type": "execute_result"
    }
   ],
   "source": [
    "import tensorflow\n",
    "tensorflow.version"
   ]
  },
  {
   "cell_type": "code",
   "execution_count": 3,
   "id": "56f8fd8f",
   "metadata": {},
   "outputs": [],
   "source": [
    "image_dataset_path = '../dataset/8k/Images/'\n",
    "caption_dataset_path = '../dataset/8k/captions.txt'"
   ]
  },
  {
   "cell_type": "code",
   "execution_count": 4,
   "id": "ea6fd4d4",
   "metadata": {},
   "outputs": [],
   "source": [
    "# load the caption file & read it\n",
    "def load_caption_file(path):\n",
    "    \n",
    "    # dictionary to store captions\n",
    "    captions_dict = {}\n",
    "    \n",
    "    # iterate through the file\n",
    "    for caption in open(path,encoding = 'utf-8'):\n",
    "    \n",
    "        # caption has format-> 1000268201_693b08cb0e.jpg#0  A child in a pink dress is climbing up a set of stairs in an entry way .\n",
    "        tokens = caption.split()\n",
    "        caption_id, caption_text = tokens[0].split('.')[0], tokens[1:]\n",
    "        caption_text = ' '.join(caption_text)\n",
    "        \n",
    "        # save it in the captions dictionary\n",
    "        if caption_id not in captions_dict:\n",
    "            captions_dict[caption_id] = caption_text\n",
    "        \n",
    "    return captions_dict\n",
    "\n",
    "# call the function\n",
    "captions_dict = load_caption_file(caption_dataset_path)"
   ]
  },
  {
   "cell_type": "code",
   "execution_count": 5,
   "id": "b5439ce5",
   "metadata": {},
   "outputs": [],
   "source": [
    "# captions_dict = dict(\n",
    "#     list(captions_dict.items())[:10000]\n",
    "# )"
   ]
  },
  {
   "cell_type": "code",
   "execution_count": 6,
   "id": "fb9a8b5d",
   "metadata": {},
   "outputs": [
    {
     "name": "stdout",
     "output_type": "stream",
     "text": [
      "length of captions: 8091\n"
     ]
    }
   ],
   "source": [
    "#clean the captions\n",
    "import string\n",
    "\n",
    "# dictionary to store the cleaned captions\n",
    "cleaned_captions_dict = {}\n",
    "\n",
    "# prepare translation table for removing punctuation. third argument is the list of punctuations we want to remove\n",
    "table = str.maketrans('', '', string.punctuation)\n",
    "\n",
    "# loop through the dictionary\n",
    "for caption_id, caption_text in captions_dict.items():\n",
    "    # tokenize the caption_text\n",
    "    caption_text = caption_text.split()\n",
    "    # convert it into lower case\n",
    "    caption_text = [token.lower() for token in caption_text]\n",
    "    # remove punctuation from each token\n",
    "    caption_text = [token.translate(table) for token in caption_text]\n",
    "    # remove all the single letter tokens like 'a', 's'\n",
    "    caption_text = [token for token in caption_text if len(token)>1]\n",
    "    # store the cleaned captions\n",
    "    cleaned_captions_dict[caption_id] = 'startseq ' + ' '.join(caption_text) + ' endseq'\n",
    "\n",
    "# delete unwanted\n",
    "del(captions_dict)\n",
    "print(f\"length of captions: {len(cleaned_captions_dict)}\")"
   ]
  },
  {
   "cell_type": "code",
   "execution_count": 7,
   "id": "6bce1d34",
   "metadata": {},
   "outputs": [],
   "source": [
    "tokenizer = Tokenizer()\n",
    "\n",
    "# create word count dictionary on the captions list\n",
    "tokenizer.fit_on_texts(list(cleaned_captions_dict.values()))\n",
    "\n",
    "# how many words are there in the vocabulary? store the total length in vocab_len and add 1 because word_index starts with 1 not 0 \n",
    "vocab_len = len(tokenizer.word_index) + 1\n",
    "\n",
    "# store the length of the maximum sentence\n",
    "# max_len = max(len(train_validate_image_caption[image].split()) for image in train_validate_image_caption)\n",
    "max_len = max(len(cleaned_captions_dict[image].split()) for image in cleaned_captions_dict)"
   ]
  },
  {
   "cell_type": "code",
   "execution_count": 8,
   "id": "8fb83086",
   "metadata": {},
   "outputs": [
    {
     "name": "stdout",
     "output_type": "stream",
     "text": [
      "('1000268201_693b08cb0e', 'startseq child in pink dress is climbing up set of stairs in an entry way endseq')\n"
     ]
    }
   ],
   "source": [
    "train_caption = list(cleaned_captions_dict.items())[0:7500]\n",
    "validate_caption = list(cleaned_captions_dict.items())[7500:8091]\n",
    "\n",
    "# train_caption = list(cleaned_captions_dict.items())[0:9000]\n",
    "# # validate_caption = list(cleaned_captions_dict.items())[14500:15000]\n",
    "\n",
    "print(train_caption[0])"
   ]
  },
  {
   "cell_type": "code",
   "execution_count": 9,
   "id": "036c0067",
   "metadata": {},
   "outputs": [
    {
     "name": "stderr",
     "output_type": "stream",
     "text": [
      "2022-03-11 05:43:09.891094: E tensorflow/stream_executor/cuda/cuda_driver.cc:271] failed call to cuInit: CUDA_ERROR_NO_DEVICE: no CUDA-capable device is detected\n",
      "2022-03-11 05:43:09.891168: I tensorflow/stream_executor/cuda/cuda_diagnostics.cc:156] kernel driver does not appear to be running on this host (pr02): /proc/driver/nvidia/version does not exist\n",
      "2022-03-11 05:43:09.893588: I tensorflow/core/platform/cpu_feature_guard.cc:151] This TensorFlow binary is optimized with oneAPI Deep Neural Network Library (oneDNN) to use the following CPU instructions in performance-critical operations:  AVX2 AVX512F FMA\n",
      "To enable them in other operations, rebuild TensorFlow with the appropriate compiler flags.\n"
     ]
    }
   ],
   "source": [
    "# load the model\n",
    "vgg_model = VGG16()\n",
    "\n",
    "# re-structure the model\n",
    "vgg_model = Model(inputs=vgg_model.inputs, outputs=vgg_model.layers[-2].output)\n",
    "\n",
    "# extract features from each photo in the directory\n",
    "def extract_single_features(directory, img_name, ext=\"jpg\"):\n",
    "    # extract features from each photo\n",
    "    features = dict()\n",
    "    \n",
    "    # load an image from file\n",
    "    filename = directory + '/' + img_name + \".\" + ext\n",
    "    #filename = directory + '/' + img_name + '.jpeg'\n",
    "    \n",
    "\n",
    "    # load the image and convert it into target size of 224*224\n",
    "    image = load_img(filename, target_size=(224, 224))\n",
    "\n",
    "    # convert the image pixels to a numpy array\n",
    "    image = img_to_array(image)\n",
    "\n",
    "    # reshape data for the model\n",
    "    image = image.reshape((1, image.shape[0], image.shape[1], image.shape[2]))\n",
    "\n",
    "    # prepare the image for the VGG model\n",
    "    image = preprocess_input(image)\n",
    "\n",
    "    # get features\n",
    "    feature = vgg_model.predict(image, verbose=0)\n",
    "\n",
    "    # get image id\n",
    "    image_id = img_name.split('.')[0]\n",
    "\n",
    "    # store feature\n",
    "    features[image_id] = feature\n",
    "\n",
    "    # print('>%s' % name)\n",
    "        \n",
    "    return feature\n",
    "\n",
    "# extract_single_features(image_dataset_path, train_caption[0][0])"
   ]
  },
  {
   "cell_type": "code",
   "execution_count": 9,
   "id": "08a3b2d1",
   "metadata": {},
   "outputs": [],
   "source": [
    "\n",
    "# def encode_data(data):\n",
    "#     encoded_data = {}\n",
    "#     for img_id, img_caption in tqdm(data):\n",
    "#         encoded_data[img_id] = extract_single_features(image_dataset_path, img_id)\n",
    "#     return encoded_data\n",
    "\n",
    "# train_features = encode_data(train_caption)\n",
    "# validate_features = encode_data(validate_caption)"
   ]
  },
  {
   "cell_type": "code",
   "execution_count": 10,
   "id": "5f01efe1",
   "metadata": {},
   "outputs": [],
   "source": [
    "# with open(\"../img_features/8k_train_features.pkl\", \"wb\") as f:\n",
    "#     pickle.dump(train_features, f)\n",
    "\n",
    "# with open(\"../img_features/8k_validate_features.pkl\", \"wb\") as f:\n",
    "#     pickle.dump(validate_features, f)"
   ]
  },
  {
   "cell_type": "code",
   "execution_count": 11,
   "id": "54bd462a",
   "metadata": {},
   "outputs": [],
   "source": [
    "with open(\"../img_features/8k_train_features.pkl\", \"rb\") as f:\n",
    "    train_features  = pickle.load(f)\n",
    "\n",
    "with open(\"../img_features/8k_validate_features.pkl\", \"rb\") as f:\n",
    "    validate_features  = pickle.load(f)"
   ]
  },
  {
   "cell_type": "code",
   "execution_count": 12,
   "id": "9c4dd332",
   "metadata": {},
   "outputs": [
    {
     "name": "stdout",
     "output_type": "stream",
     "text": [
      "Found 400000 word vectors.\n",
      "Converted 4198 words (269 misses)\n"
     ]
    }
   ],
   "source": [
    "# Load all the embeddings from the text file\n",
    "def get_embedding_matrix():    \n",
    "    embedding_idx = {}\n",
    "    embedding_matrix = np.zeros((vocab_len, 100))\n",
    "    hits = 0\n",
    "    misses = 0\n",
    "    \n",
    "    with open(\"../glove_embeddings/glove.6B.100d.txt\") as f:\n",
    "        for line in f:\n",
    "            word, coefs = line.split(maxsplit=1)\n",
    "            coefs = np.fromstring(coefs, \"f\", sep=\" \")\n",
    "            embedding_idx[word] = coefs\n",
    "    print(\"Found %s word vectors.\" % len(embedding_idx))\n",
    "\n",
    "\n",
    "    # Make a embedding matrix with embeddings of all the vocabulary\n",
    "    for word, i in tokenizer.word_index.items():\n",
    "        embedding_vector = embedding_idx.get(word)\n",
    "        if embedding_vector is not None:\n",
    "            embedding_matrix[i] = embedding_vector\n",
    "            hits += 1\n",
    "        else:\n",
    "            misses += 1\n",
    "    print(\"Converted %d words (%d misses)\" % (hits, misses))\n",
    "    \n",
    "    return embedding_matrix\n",
    "    \n",
    "embedding_matrix = get_embedding_matrix()"
   ]
  },
  {
   "cell_type": "code",
   "execution_count": 13,
   "id": "261a7117",
   "metadata": {},
   "outputs": [],
   "source": [
    "from tqdm import tqdm\n",
    "\n",
    "def dataGen(img_caption, feature):\n",
    "    dataset_size = len(img_caption)\n",
    "    print(\"dataset_size\", dataset_size)\n",
    "    count = 0\n",
    "    # x1 will store the image feature, x2 will store one sequence and y will store the next sequence\n",
    "    x1, x2, y = [], [], []\n",
    "    \n",
    "    for i in tqdm(range(dataset_size)):\n",
    "        image, caption = img_caption[i]\n",
    "        caption = caption.split()\n",
    "        seq = tokenizer.texts_to_sequences([caption])[0]\n",
    "        length = len(seq)\n",
    "\n",
    "        # Extract image feature\n",
    "        img_feature = feature[image]\n",
    "\n",
    "        for j in range(1, length):\n",
    "            x2_seq, y_seq = seq[:j] , seq[j]\n",
    "\n",
    "            # pad the sequences\n",
    "            x2_seq = pad_sequences([x2_seq], maxlen = max_len, padding=\"post\", truncating=\"post\")[0]\n",
    "            \n",
    "            # encode the output sequence                \n",
    "            y_seq = to_categorical([y_seq], num_classes = vocab_len)[0]\n",
    "\n",
    "            # x1.append( train_validate_features[image][0])\n",
    "            x1.append(img_feature[0])\n",
    "\n",
    "            x2.append(x2_seq)\n",
    "\n",
    "            y.append(y_seq)\n",
    "            count = count + 1\n",
    "    \n",
    "    print(\"Size of dataset: \", count)\n",
    "    return [np.array(x1), np.array(x2)], np.array(y)\n",
    "#     yield [np.array(x1), np.array(x2)], np.array(y)"
   ]
  },
  {
   "cell_type": "code",
   "execution_count": 14,
   "id": "268adfc8",
   "metadata": {},
   "outputs": [
    {
     "name": "stdout",
     "output_type": "stream",
     "text": [
      "dataset_size 7500\n"
     ]
    },
    {
     "name": "stderr",
     "output_type": "stream",
     "text": [
      "100%|██████████████████████████████████████████████| 7500/7500 [00:02<00:00, 2905.70it/s]\n"
     ]
    },
    {
     "name": "stdout",
     "output_type": "stream",
     "text": [
      "Size of dataset:  75585\n",
      "dataset_size 591\n"
     ]
    },
    {
     "name": "stderr",
     "output_type": "stream",
     "text": [
      "100%|████████████████████████████████████████████████| 591/591 [00:00<00:00, 3575.03it/s]"
     ]
    },
    {
     "name": "stdout",
     "output_type": "stream",
     "text": [
      "Size of dataset:  6023\n"
     ]
    },
    {
     "name": "stderr",
     "output_type": "stream",
     "text": [
      "\n"
     ]
    }
   ],
   "source": [
    "# Using Generator for generating the training data\n",
    "trainX, trainY = dataGen(train_caption, train_features)\n",
    "valX, valY = dataGen(validate_caption, validate_features)"
   ]
  },
  {
   "cell_type": "code",
   "execution_count": 15,
   "id": "0fdace74",
   "metadata": {},
   "outputs": [
    {
     "name": "stderr",
     "output_type": "stream",
     "text": [
      "2022-03-12 14:13:54.825167: E tensorflow/stream_executor/cuda/cuda_driver.cc:271] failed call to cuInit: CUDA_ERROR_NO_DEVICE: no CUDA-capable device is detected\n",
      "2022-03-12 14:13:54.825227: I tensorflow/stream_executor/cuda/cuda_diagnostics.cc:169] retrieving CUDA diagnostic information for host: pr02\n",
      "2022-03-12 14:13:54.825244: I tensorflow/stream_executor/cuda/cuda_diagnostics.cc:176] hostname: pr02\n",
      "2022-03-12 14:13:54.825361: I tensorflow/stream_executor/cuda/cuda_diagnostics.cc:200] libcuda reported version is: 510.54.0\n",
      "2022-03-12 14:13:54.825406: I tensorflow/stream_executor/cuda/cuda_diagnostics.cc:204] kernel reported version is: 510.54.0\n",
      "2022-03-12 14:13:54.825420: I tensorflow/stream_executor/cuda/cuda_diagnostics.cc:310] kernel version seems to match DSO: 510.54.0\n",
      "2022-03-12 14:13:54.826036: I tensorflow/core/platform/cpu_feature_guard.cc:151] This TensorFlow binary is optimized with oneAPI Deep Neural Network Library (oneDNN) to use the following CPU instructions in performance-critical operations:  AVX2 AVX512F FMA\n",
      "To enable them in other operations, rebuild TensorFlow with the appropriate compiler flags.\n"
     ]
    },
    {
     "name": "stdout",
     "output_type": "stream",
     "text": [
      "Model: \"model\"\n",
      "__________________________________________________________________________________________________\n",
      " Layer (type)                   Output Shape         Param #     Connected to                     \n",
      "==================================================================================================\n",
      " input_2 (InputLayer)           [(None, 30)]         0           []                               \n",
      "                                                                                                  \n",
      " embedding (Embedding)          (None, 30, 100)      446800      ['input_2[0][0]']                \n",
      "                                                                                                  \n",
      " input_1 (InputLayer)           [(None, 4096)]       0           []                               \n",
      "                                                                                                  \n",
      " dropout_1 (Dropout)            (None, 30, 100)      0           ['embedding[0][0]']              \n",
      "                                                                                                  \n",
      " dropout (Dropout)              (None, 4096)         0           ['input_1[0][0]']                \n",
      "                                                                                                  \n",
      " bidirectional (Bidirectional)  (None, 30, 256)      234496      ['dropout_1[0][0]']              \n",
      "                                                                                                  \n",
      " dense (Dense)                  (None, 512)          2097664     ['dropout[0][0]']                \n",
      "                                                                                                  \n",
      " bidirectional_1 (Bidirectional  (None, 512)         1050624     ['bidirectional[0][0]']          \n",
      " )                                                                                                \n",
      "                                                                                                  \n",
      " add (Add)                      (None, 512)          0           ['dense[0][0]',                  \n",
      "                                                                  'bidirectional_1[0][0]']        \n",
      "                                                                                                  \n",
      " dense_1 (Dense)                (None, 256)          131328      ['add[0][0]']                    \n",
      "                                                                                                  \n",
      " dense_2 (Dense)                (None, 4468)         1148276     ['dense_1[0][0]']                \n",
      "                                                                                                  \n",
      "==================================================================================================\n",
      "Total params: 5,109,188\n",
      "Trainable params: 4,662,388\n",
      "Non-trainable params: 446,800\n",
      "__________________________________________________________________________________________________\n"
     ]
    }
   ],
   "source": [
    "# feature extractor model\n",
    "input_1 = Input(shape=(4096,))\n",
    "droplayer = Dropout(0.5)(input_1)\n",
    "denselayer = Dense(512, activation='relu')(droplayer)\n",
    "\n",
    "# sequence model\n",
    "input_2 = Input(shape=(max_len,))\n",
    "# embedding = Embedding(vocab_len, 50, )(input_2)\n",
    "embedding = Embedding(vocab_len, 100, embeddings_initializer=Constant(embedding_matrix), trainable=False)(input_2)\n",
    "droplayer_ = Dropout(0.5)(embedding)\n",
    "lstm = Bidirectional(LSTM(128, return_sequences=True))(droplayer_)\n",
    "lstm2 = Bidirectional(LSTM(256))(lstm)\n",
    "\n",
    "# decoder model\n",
    "decoder1 = add([denselayer, lstm2])\n",
    "decoder2 = Dense(256, activation='relu')(decoder1)\n",
    "outputs = Dense(vocab_len, activation='softmax')(decoder2)\n",
    "\n",
    "# tie it together [image, seq] [word]\n",
    "model = Model(inputs=[input_1, input_2], outputs=outputs)\n",
    "model.compile(loss='categorical_crossentropy', optimizer='adam')\n",
    "\n",
    "# summarize model\n",
    "model.summary()"
   ]
  },
  {
   "cell_type": "code",
   "execution_count": 16,
   "id": "21a0505b",
   "metadata": {
    "scrolled": false
   },
   "outputs": [
    {
     "name": "stdout",
     "output_type": "stream",
     "text": [
      "Epoch 1/20\n",
      "252/252 [==============================] - 134s 512ms/step - loss: 5.2887 - val_loss: 4.7370\n",
      "Epoch 2/20\n",
      "252/252 [==============================] - 128s 508ms/step - loss: 4.4051 - val_loss: 4.4126\n",
      "Epoch 3/20\n",
      "252/252 [==============================] - 128s 508ms/step - loss: 3.9748 - val_loss: 4.2827\n",
      "Epoch 4/20\n",
      "252/252 [==============================] - 128s 509ms/step - loss: 3.6523 - val_loss: 4.2747\n",
      "Epoch 5/20\n",
      "252/252 [==============================] - 128s 509ms/step - loss: 3.3819 - val_loss: 4.3645\n",
      "Epoch 6/20\n",
      "252/252 [==============================] - 128s 509ms/step - loss: 3.1370 - val_loss: 4.4664\n",
      "Epoch 7/20\n",
      "252/252 [==============================] - 129s 510ms/step - loss: 2.9338 - val_loss: 4.5800\n",
      "Epoch 8/20\n",
      "252/252 [==============================] - 128s 510ms/step - loss: 2.7416 - val_loss: 4.7138\n",
      "Epoch 9/20\n",
      "252/252 [==============================] - 129s 511ms/step - loss: 2.5793 - val_loss: 4.7915\n",
      "Epoch 10/20\n",
      "252/252 [==============================] - 128s 510ms/step - loss: 2.4382 - val_loss: 4.9577\n",
      "Epoch 11/20\n",
      "252/252 [==============================] - 129s 510ms/step - loss: 2.3201 - val_loss: 5.1095\n",
      "Epoch 12/20\n",
      "252/252 [==============================] - 128s 509ms/step - loss: 2.2111 - val_loss: 5.2284\n",
      "Epoch 13/20\n",
      "252/252 [==============================] - 128s 510ms/step - loss: 2.1246 - val_loss: 5.3095\n",
      "Epoch 14/20\n",
      "252/252 [==============================] - 129s 511ms/step - loss: 2.0347 - val_loss: 5.4510\n",
      "Epoch 15/20\n",
      "252/252 [==============================] - 128s 509ms/step - loss: 1.9588 - val_loss: 5.5903\n",
      "Epoch 16/20\n",
      "252/252 [==============================] - 129s 511ms/step - loss: 1.8934 - val_loss: 5.6093\n",
      "Epoch 17/20\n",
      "252/252 [==============================] - 129s 511ms/step - loss: 1.8330 - val_loss: 5.7038\n",
      "Epoch 18/20\n",
      "252/252 [==============================] - 129s 511ms/step - loss: 1.7705 - val_loss: 5.8449\n",
      "Epoch 19/20\n",
      "252/252 [==============================] - 128s 510ms/step - loss: 1.7200 - val_loss: 5.9300\n",
      "Epoch 20/20\n",
      "252/252 [==============================] - 129s 511ms/step - loss: 1.6723 - val_loss: 6.0547\n"
     ]
    }
   ],
   "source": [
    "history = model.fit(trainX, trainY, epochs=20, batch_size=300, validation_data=[valX, valY], shuffle=True, )"
   ]
  },
  {
   "cell_type": "code",
   "execution_count": 18,
   "id": "6ac7498c",
   "metadata": {},
   "outputs": [
    {
     "data": {
      "image/png": "[encoded data removed]",
      "text/plain": [
       "<Figure size 1080x576 with 1 Axes>"
      ]
     },
     "metadata": {
      "needs_background": "light"
     },
     "output_type": "display_data"
    }
   ],
   "source": [
    "import matplotlib.pyplot as plt\n",
    "# plt.rcParams.update({'font.size': 12})\n",
    "\n",
    "plt.figure(figsize=(15, 8))\n",
    "loss = history.history['loss']\n",
    "plt.plot(loss, label=\"train_loss\")\n",
    "plt.xlabel(\"steps\", fontsize=20)\n",
    "plt.ylabel(\"loss\", fontsize=20)\n",
    "plt.legend()\n",
    "plt.grid()\n",
    "plt.savefig(\"lstm_bidirectional_stack_loss.png\")"
   ]
  },
  {
   "cell_type": "code",
   "execution_count": 19,
   "id": "cfe396cd",
   "metadata": {},
   "outputs": [],
   "source": [
    "def word_for_id(integer, tokenizr):\n",
    "    for word, index in tokenizr.word_index.items():\n",
    "        if index == integer:\n",
    "            return word\n",
    "    return None\n",
    "\n",
    "# generate a description for an image\n",
    "def generate_desc(model, tokenizer, photo, max_length):\n",
    "    \n",
    "    # seed the generation process\n",
    "    in_text = 'startseq'\n",
    "    \n",
    "    # iterate over the whole length of the sequence\n",
    "    for i in range(max_length):\n",
    "        # integer encode input sequence\n",
    "        sequence = tokenizer.texts_to_sequences([in_text])[0]\n",
    "        \n",
    "        # pad input\n",
    "        sequence = pad_sequences([sequence], maxlen=max_length, padding=\"post\", truncating=\"post\")\n",
    "        \n",
    "        # predict next word\n",
    "        yhat = model.predict([photo,sequence], verbose=0)\n",
    "        \n",
    "        # convert probability to integer\n",
    "        yhat = np.argmax(yhat)\n",
    "        \n",
    "        # map integer to word\n",
    "        word = word_for_id(yhat, tokenizer)\n",
    "        \n",
    "        # stop if we cannot map the word\n",
    "        if word is None:\n",
    "            break\n",
    "        \n",
    "        # append as input for generating the next word\n",
    "        in_text += ' ' + word\n",
    "        \n",
    "        # stop if we predict the end of the sequence\n",
    "        if word == 'endseq':\n",
    "            break\n",
    "    return in_text"
   ]
  },
  {
   "cell_type": "code",
   "execution_count": 67,
   "id": "601827fb",
   "metadata": {},
   "outputs": [
    {
     "name": "stdout",
     "output_type": "stream",
     "text": [
      "Original caption:  startseq group of people are riding in the back of truck endseq\n",
      "Predicted caption:  startseq group of people are riding down the ground endseq\n",
      "0.37200908038405156\n"
     ]
    }
   ],
   "source": [
    "import random\n",
    "from nltk.translate.bleu_score import sentence_bleu\n",
    "\n",
    "img_id, original_caption = random.choice(train_caption)\n",
    "predicted_caption = generate_desc(model, tokenizer, train_features[img_id], max_len)\n",
    "print(\"Original caption: \", original_caption)\n",
    "print(\"Predicted caption: \", predicted_caption)\n",
    "load_img(image_dataset_path + \"/\" + img_id + \".jpg\")\n",
    "\n",
    "predicted_caption = predicted_caption.replace(\"startseq\", \"\")\n",
    "predicted_caption = predicted_caption.replace(\"endseq\", \"\")\n",
    "references = blue_captions_dict[img_id]\n",
    "candidate = predicted_caption.split(\" \")\n",
    "score = sentence_bleu(references, candidate)\n",
    "print(score)"
   ]
  },
  {
   "cell_type": "code",
   "execution_count": 21,
   "id": "df974d70",
   "metadata": {},
   "outputs": [],
   "source": [
    "model.save(\"models/8k_model_bidirectional_stack.h5\")"
   ]
  },
  {
   "cell_type": "code",
   "execution_count": 50,
   "id": "649d7230",
   "metadata": {},
   "outputs": [],
   "source": [
    "# load the caption file & read it\n",
    "def load_caption_file(path):\n",
    "    \n",
    "    # dictionary to store captions\n",
    "    captions_dict = {}\n",
    "    \n",
    "    # iterate through the file\n",
    "    for caption in open(path, encoding = 'utf-8'):\n",
    "    \n",
    "        # caption has format-> 1000268201_693b08cb0e.jpg#0  A child in a pink dress is climbing up a set of stairs in an entry way .\n",
    "        tokens = caption.split()\n",
    "        caption_id, caption_text = tokens[0].split('.')[0], tokens[1:]\n",
    "        caption_text = ' '.join(caption_text)\n",
    "        \n",
    "        # save it in the captions dictionary\n",
    "        if caption_id not in captions_dict:\n",
    "            captions_dict[caption_id] = [caption_text.split(\" \")]\n",
    "        else:\n",
    "            captions_dict[caption_id] += [caption_text.split(\" \")]\n",
    "        \n",
    "    return captions_dict\n",
    "\n",
    "# call the function\n",
    "blue_captions_dict = load_caption_file(caption_dataset_path)"
   ]
  },
  {
   "cell_type": "code",
   "execution_count": 62,
   "id": "258b00a4",
   "metadata": {},
   "outputs": [
    {
     "name": "stdout",
     "output_type": "stream",
     "text": [
      "1.2882297539194154e-231\n"
     ]
    }
   ],
   "source": []
  }
 ],
 "metadata": {
  "kernelspec": {
   "display_name": "Python 3 (ipykernel)",
   "language": "python",
   "name": "python3"
  },
  "language_info": {
   "codemirror_mode": {
    "name": "ipython",
    "version": 3
   },
   "file_extension": ".py",
   "mimetype": "text/x-python",
   "name": "python",
   "nbconvert_exporter": "python",
   "pygments_lexer": "ipython3",
   "version": "3.9.9"
  }
 },
 "nbformat": 4,
 "nbformat_minor": 5
}
